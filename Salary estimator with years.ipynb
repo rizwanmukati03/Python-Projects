{
 "cells": [
  {
   "cell_type": "code",
   "execution_count": 9,
   "metadata": {},
   "outputs": [],
   "source": [
    "def salary_calc(current_salary,increment,years):\n",
    "    total_salary = []\n",
    "    for i in range(years):\n",
    "        total_salary.append(current_salary*12)\n",
    "        current_salary+=increment\n",
    "    print(f\"Your salary after {years} years of service with {increment} increment will be: {sum(total_salary)}\")"
   ]
  },
  {
   "cell_type": "code",
   "execution_count": 18,
   "metadata": {},
   "outputs": [
    {
     "name": "stdout",
     "output_type": "stream",
     "text": [
      "Your salary after 3 years of service with 10000 increment will be: 3960000\n"
     ]
    }
   ],
   "source": [
    "salary_calc(current_salary=100000,increment=10000,years=3)"
   ]
  },
  {
   "cell_type": "code",
   "execution_count": null,
   "metadata": {},
   "outputs": [],
   "source": []
  }
 ],
 "metadata": {
  "kernelspec": {
   "display_name": "Python 3",
   "language": "python",
   "name": "python3"
  },
  "language_info": {
   "codemirror_mode": {
    "name": "ipython",
    "version": 3
   },
   "file_extension": ".py",
   "mimetype": "text/x-python",
   "name": "python",
   "nbconvert_exporter": "python",
   "pygments_lexer": "ipython3",
   "version": "3.7.3"
  }
 },
 "nbformat": 4,
 "nbformat_minor": 4
}

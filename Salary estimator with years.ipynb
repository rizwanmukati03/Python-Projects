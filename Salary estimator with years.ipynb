{
 "cells": [
  {
   "cell_type": "code",
   "execution_count": 32,
   "metadata": {},
   "outputs": [],
   "source": [
    "def salary_calc(current_salary,increment,years):\n",
    "    total_salary = []\n",
    "    for i in range(years):\n",
    "        total_salary.append(current_salary*12)\n",
    "        current_salary+=increment\n",
    "    print(f\"Your salary after {years} years of service with {increment} increment will be PKR : {sum(total_salary)}/=\")"
   ]
  },
  {
   "cell_type": "code",
   "execution_count": 33,
   "metadata": {},
   "outputs": [
    {
     "name": "stdout",
     "output_type": "stream",
     "text": [
      "Your salary after 30 years of service with 10000 increment will be PKR : 106200000/=\n"
     ]
    }
   ],
   "source": [
    "salary_calc(current_salary = 150000,increment = 10000,years = 30)"
   ]
  },
  {
   "cell_type": "code",
   "execution_count": 31,
   "metadata": {},
   "outputs": [
    {
     "name": "stdout",
     "output_type": "stream",
     "text": [
      "Your salary after 30 years of service with 4000 increment will be PKR : 42480000/=\n"
     ]
    }
   ],
   "source": [
    "salary_calc(current_salary = 60000,increment = 4000,years = 30)"
   ]
  },
  {
   "cell_type": "code",
   "execution_count": null,
   "metadata": {},
   "outputs": [],
   "source": []
  }
 ],
 "metadata": {
  "kernelspec": {
   "display_name": "Python 3",
   "language": "python",
   "name": "python3"
  },
  "language_info": {
   "codemirror_mode": {
    "name": "ipython",
    "version": 3
   },
   "file_extension": ".py",
   "mimetype": "text/x-python",
   "name": "python",
   "nbconvert_exporter": "python",
   "pygments_lexer": "ipython3",
   "version": "3.7.3"
  }
 },
 "nbformat": 4,
 "nbformat_minor": 4
}
